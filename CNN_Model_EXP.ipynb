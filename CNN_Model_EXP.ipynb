{
  "cells": [
    {
      "cell_type": "code",
      "execution_count": null,
      "metadata": {
        "colab": {
          "base_uri": "https://localhost:8080/"
        },
        "id": "zISFbvC78G4Q",
        "outputId": "676ccd82-281f-44b7-bb8b-1fcc2d503c74"
      },
      "outputs": [
        {
          "output_type": "stream",
          "name": "stdout",
          "text": [
            "Mounted at /content/drive\n"
          ]
        }
      ],
      "source": [
        "#Mount Google drive to Notebook\n",
        "from google.colab import drive\n",
        "drive.mount('/content/drive')"
      ]
    },
    {
      "cell_type": "code",
      "source": [
        "#Install dependencies\n",
        "!pip install tf-watcher"
      ],
      "metadata": {
        "id": "jpE2wCIp0yAu"
      },
      "execution_count": null,
      "outputs": []
    },
    {
      "cell_type": "code",
      "execution_count": null,
      "metadata": {
        "colab": {
          "base_uri": "https://localhost:8080/"
        },
        "id": "O_J7cEgN8rig",
        "outputId": "7cd02eca-fb97-475f-b166-85e9d24cfba4"
      },
      "outputs": [
        {
          "output_type": "stream",
          "name": "stdout",
          "text": [
            "Found 2900 images belonging to 4 classes.\n",
            "Found 828 images belonging to 4 classes.\n",
            "Found 408 images belonging to 4 classes.\n"
          ]
        }
      ],
      "source": [
        "# Import packages\n",
        "from tensorflow.keras.preprocessing.image import ImageDataGenerator\n",
        "from tensorflow.keras.models import Sequential\n",
        "from tensorflow.keras.layers import Dense,Conv2D,MaxPool2D,Flatten,Dropout, BatchNormalization\n",
        "from tensorflow.keras.callbacks import EarlyStopping\n",
        "from keras.utils.vis_utils import plot_model\n",
        "import keras\n",
        "import tfwatcher\n",
        "import numpy\n",
        "import sklearn.metrics as metrics\n",
        "from sklearn.metrics import confusion_matrix\n",
        "\n",
        "# Use ImageDataGenerator for data augmenntation\n",
        "train_datagen = ImageDataGenerator(rescale=1./255,\n",
        "                                   zoom_range = 0.4,\n",
        "                                   rotation_range = 10,\n",
        "                                   horizontal_flip = True,)\n",
        "valid_datagen = ImageDataGenerator(rescale=1./255,\n",
        "                                   zoom_range = 0.4,\n",
        "                                   rotation_range = 10,\n",
        "                                   horizontal_flip = True,)\n",
        "test_datagen = ImageDataGenerator(rescale=1./255)\n",
        "\n",
        "# Load the images\n",
        "train_generator = train_datagen.flow_from_directory(directory='/content/drive/MyDrive/Data/split_data_1/train', \n",
        "                                                    target_size=(224, 224),\n",
        "                                                    #color_mode=\"grayscale\",\n",
        "                                                    batch_size=32,\n",
        "                                                    class_mode=\"categorical\",\n",
        "                                                    shuffle=True,seed=42)\n",
        "\n",
        "valid_generator = valid_datagen.flow_from_directory(directory='/content/drive/MyDrive/Data/split_data_1/val', \n",
        "                                                    target_size=(224, 224),\n",
        "                                                    #color_mode=\"grayscale\",\n",
        "                                                    batch_size=32,\n",
        "                                                    class_mode=\"categorical\",\n",
        "                                                    shuffle=True,seed=42)\n",
        "\n",
        "\n",
        "test_generator = test_datagen.flow_from_directory(directory='/content/drive/MyDrive/Data/split_data_1/test',\n",
        "                                                  target_size=(224, 224),\n",
        "                                                  #color_mode=\"grayscale\",\n",
        "                                                  batch_size=1,\n",
        "                                                  class_mode=None,\n",
        "                                                  shuffle=False,\n",
        "                                                  seed=42)"
      ]
    },
    {
      "cell_type": "code",
      "source": [
        ""
      ],
      "metadata": {
        "id": "KgLQlb62LWrD"
      },
      "execution_count": null,
      "outputs": []
    },
    {
      "cell_type": "code",
      "execution_count": null,
      "metadata": {
        "colab": {
          "base_uri": "https://localhost:8080/"
        },
        "id": "Gb4AackFaFrL",
        "outputId": "ebd40a00-eaa4-40de-f308-f3814d79336c"
      },
      "outputs": [
        {
          "output_type": "stream",
          "name": "stdout",
          "text": [
            "Model: \"sequential\"\n",
            "_________________________________________________________________\n",
            " Layer (type)                Output Shape              Param #   \n",
            "=================================================================\n",
            " conv2d (Conv2D)             (None, 220, 220, 128)     9728      \n",
            "                                                                 \n",
            " max_pooling2d (MaxPooling2D  (None, 73, 73, 128)      0         \n",
            " )                                                               \n",
            "                                                                 \n",
            " conv2d_1 (Conv2D)           (None, 69, 69, 64)        204864    \n",
            "                                                                 \n",
            " max_pooling2d_1 (MaxPooling  (None, 23, 23, 64)       0         \n",
            " 2D)                                                             \n",
            "                                                                 \n",
            " conv2d_2 (Conv2D)           (None, 21, 21, 32)        18464     \n",
            "                                                                 \n",
            " max_pooling2d_2 (MaxPooling  (None, 10, 10, 32)       0         \n",
            " 2D)                                                             \n",
            "                                                                 \n",
            " conv2d_3 (Conv2D)           (None, 8, 8, 32)          9248      \n",
            "                                                                 \n",
            " max_pooling2d_3 (MaxPooling  (None, 4, 4, 32)         0         \n",
            " 2D)                                                             \n",
            "                                                                 \n",
            " flatten (Flatten)           (None, 512)               0         \n",
            "                                                                 \n",
            " dense (Dense)               (None, 4096)              2101248   \n",
            "                                                                 \n",
            " dense_1 (Dense)             (None, 256)               1048832   \n",
            "                                                                 \n",
            " dropout (Dropout)           (None, 256)               0         \n",
            "                                                                 \n",
            " dense_2 (Dense)             (None, 128)               32896     \n",
            "                                                                 \n",
            " dense_3 (Dense)             (None, 16)                2064      \n",
            "                                                                 \n",
            " dropout_1 (Dropout)         (None, 16)                0         \n",
            "                                                                 \n",
            " dense_4 (Dense)             (None, 8)                 136       \n",
            "                                                                 \n",
            " dense_5 (Dense)             (None, 4)                 36        \n",
            "                                                                 \n",
            "=================================================================\n",
            "Total params: 3,427,516\n",
            "Trainable params: 3,427,516\n",
            "Non-trainable params: 0\n",
            "_________________________________________________________________\n"
          ]
        }
      ],
      "source": [
        "#Create the Model architecture\n",
        "model= Sequential()\n",
        "\n",
        "model.add(Conv2D(filters=128,strides= 1, kernel_size = (5,5), activation='relu', input_shape=(224,224,3,)))\n",
        "model.add(MaxPool2D(3,3))\n",
        "model.add(Conv2D(filters=64,kernel_size = (5,5),activation='relu'))\n",
        "model.add(MaxPool2D(3,3))\n",
        "\n",
        "model.add(Conv2D(filters=32,kernel_size = (3,3),activation='relu'))\n",
        "model.add(MaxPool2D(2,2))\n",
        "model.add(Conv2D(filters=32,kernel_size = (3,3),activation='relu'))\n",
        "model.add(MaxPool2D(2,2))\n",
        "\n",
        "model.add(Flatten())\n",
        "model.add(Dense(4096,activation='relu'))\n",
        "model.add(Dense(256,activation='relu'))\n",
        "model.add(Dropout(.1))\n",
        "model.add(Dense(128,activation='relu'))\n",
        "model.add(Dense(16,activation='relu'))\n",
        "model.add(Dropout(.1))\n",
        "model.add(Dense(8,activation='relu'))\n",
        "model.add(Dense(4,activation = 'softmax'))\n",
        "model.compile(loss = 'categorical_crossentropy', optimizer ='adam', metrics= ['accuracy'])\n",
        "model.summary()"
      ]
    },
    {
      "cell_type": "code",
      "source": [
        "#Visualize the model\n",
        "plot_model(model, to_file='vgg.png')"
      ],
      "metadata": {
        "colab": {
          "base_uri": "https://localhost:8080/",
          "height": 1000
        },
        "id": "GGv9Rllw1RRN",
        "outputId": "a4a72e8e-172d-4f03-d1ab-be9b7ebf1f16"
      },
      "execution_count": null,
      "outputs": [
        {
          "output_type": "execute_result",
          "data": {
            "text/plain": [
              "<IPython.core.display.Image object>"
            ],
            "image/png": "[encoded data removed]"
          },
          "metadata": {},
          "execution_count": 5
        }
      ]
    },
    {
      "cell_type": "code",
      "execution_count": null,
      "metadata": {
        "colab": {
          "base_uri": "https://localhost:8080/"
        },
        "id": "RTVzQ50WaN-3",
        "outputId": "c13aaa8c-0809-4da0-b7f8-4e7aafe1ea6a"
      },
      "outputs": [
        {
          "output_type": "stream",
          "name": "stdout",
          "text": [
            "Epoch 1/100\n",
            "90/90 [==============================] - 76s 847ms/step - loss: 0.3091 - accuracy: 0.8790 - val_loss: 0.3992 - val_accuracy: 0.8425\n",
            "Epoch 2/100\n",
            "90/90 [==============================] - 75s 835ms/step - loss: 0.3283 - accuracy: 0.8839 - val_loss: 0.3921 - val_accuracy: 0.8487\n",
            "Epoch 3/100\n",
            "90/90 [==============================] - 77s 854ms/step - loss: 0.3060 - accuracy: 0.8874 - val_loss: 0.3574 - val_accuracy: 0.8450\n",
            "Epoch 4/100\n",
            "90/90 [==============================] - 75s 834ms/step - loss: 0.2918 - accuracy: 0.8912 - val_loss: 0.4429 - val_accuracy: 0.8325\n",
            "Epoch 5/100\n",
            "90/90 [==============================] - 76s 841ms/step - loss: 0.3140 - accuracy: 0.8870 - val_loss: 0.3832 - val_accuracy: 0.8550\n",
            "Epoch 6/100\n",
            "90/90 [==============================] - 76s 846ms/step - loss: 0.2880 - accuracy: 0.8999 - val_loss: 0.3949 - val_accuracy: 0.8438\n",
            "Epoch 7/100\n",
            "90/90 [==============================] - 75s 834ms/step - loss: 0.2970 - accuracy: 0.8891 - val_loss: 0.3667 - val_accuracy: 0.8675\n",
            "Epoch 8/100\n",
            "90/90 [==============================] - 74s 825ms/step - loss: 0.2960 - accuracy: 0.8930 - val_loss: 0.3528 - val_accuracy: 0.8700\n",
            "Epoch 9/100\n",
            "90/90 [==============================] - 74s 820ms/step - loss: 0.2841 - accuracy: 0.8957 - val_loss: 0.4144 - val_accuracy: 0.8425\n",
            "Epoch 10/100\n",
            "90/90 [==============================] - 74s 820ms/step - loss: 0.2851 - accuracy: 0.8930 - val_loss: 0.3507 - val_accuracy: 0.8650\n",
            "Epoch 11/100\n",
            "90/90 [==============================] - 74s 819ms/step - loss: 0.2937 - accuracy: 0.8909 - val_loss: 0.3654 - val_accuracy: 0.8625\n",
            "Epoch 12/100\n",
            "90/90 [==============================] - 73s 816ms/step - loss: 0.2719 - accuracy: 0.8989 - val_loss: 0.3432 - val_accuracy: 0.8700\n",
            "Epoch 13/100\n",
            "90/90 [==============================] - 73s 816ms/step - loss: 0.2675 - accuracy: 0.8985 - val_loss: 0.3310 - val_accuracy: 0.8687\n",
            "Epoch 14/100\n",
            "90/90 [==============================] - 73s 813ms/step - loss: 0.2794 - accuracy: 0.8923 - val_loss: 0.4033 - val_accuracy: 0.8388\n",
            "Epoch 15/100\n",
            "90/90 [==============================] - 73s 816ms/step - loss: 0.2555 - accuracy: 0.9034 - val_loss: 0.3716 - val_accuracy: 0.8687\n",
            "Epoch 16/100\n",
            "90/90 [==============================] - 73s 814ms/step - loss: 0.2725 - accuracy: 0.8992 - val_loss: 0.3988 - val_accuracy: 0.8687\n",
            "Epoch 17/100\n",
            "90/90 [==============================] - 73s 813ms/step - loss: 0.2614 - accuracy: 0.9038 - val_loss: 0.4097 - val_accuracy: 0.8450\n",
            "Epoch 18/100\n",
            "90/90 [==============================] - 74s 817ms/step - loss: 0.2584 - accuracy: 0.9038 - val_loss: 0.3637 - val_accuracy: 0.8537\n",
            "Epoch 19/100\n",
            "90/90 [==============================] - 73s 807ms/step - loss: 0.2798 - accuracy: 0.8985 - val_loss: 0.3679 - val_accuracy: 0.8813\n",
            "Epoch 20/100\n",
            "90/90 [==============================] - 73s 813ms/step - loss: 0.2879 - accuracy: 0.8926 - val_loss: 0.3648 - val_accuracy: 0.8512\n",
            "Epoch 21/100\n",
            "90/90 [==============================] - 73s 814ms/step - loss: 0.2680 - accuracy: 0.8947 - val_loss: 0.3513 - val_accuracy: 0.8700\n",
            "Epoch 22/100\n",
            "90/90 [==============================] - 73s 810ms/step - loss: 0.2338 - accuracy: 0.9073 - val_loss: 0.3773 - val_accuracy: 0.8512\n",
            "Epoch 23/100\n",
            "90/90 [==============================] - 73s 812ms/step - loss: 0.2398 - accuracy: 0.9076 - val_loss: 0.4138 - val_accuracy: 0.8512\n",
            "Epoch 24/100\n",
            "90/90 [==============================] - 73s 815ms/step - loss: 0.2699 - accuracy: 0.8971 - val_loss: 0.3648 - val_accuracy: 0.8725\n",
            "Epoch 25/100\n",
            "90/90 [==============================] - 73s 811ms/step - loss: 0.2343 - accuracy: 0.9153 - val_loss: 0.4898 - val_accuracy: 0.8300\n",
            "Epoch 26/100\n",
            "90/90 [==============================] - 73s 809ms/step - loss: 0.2560 - accuracy: 0.9097 - val_loss: 0.4145 - val_accuracy: 0.8438\n",
            "Epoch 27/100\n",
            "90/90 [==============================] - 73s 817ms/step - loss: 0.2699 - accuracy: 0.8933 - val_loss: 0.4220 - val_accuracy: 0.8662\n",
            "Epoch 28/100\n",
            "90/90 [==============================] - 73s 810ms/step - loss: 0.2603 - accuracy: 0.9062 - val_loss: 0.3427 - val_accuracy: 0.8763\n",
            "Epoch 29/100\n",
            "90/90 [==============================] - 74s 821ms/step - loss: 0.2324 - accuracy: 0.9160 - val_loss: 0.4079 - val_accuracy: 0.8687\n",
            "Epoch 30/100\n",
            "90/90 [==============================] - 73s 817ms/step - loss: 0.2750 - accuracy: 0.9010 - val_loss: 0.3830 - val_accuracy: 0.8575\n",
            "Epoch 31/100\n",
            "90/90 [==============================] - 73s 817ms/step - loss: 0.2586 - accuracy: 0.9017 - val_loss: 0.4212 - val_accuracy: 0.8637\n",
            "Epoch 32/100\n",
            "90/90 [==============================] - 73s 808ms/step - loss: 0.2305 - accuracy: 0.9083 - val_loss: 0.3643 - val_accuracy: 0.8650\n",
            "Epoch 33/100\n",
            "90/90 [==============================] - 73s 808ms/step - loss: 0.2361 - accuracy: 0.9093 - val_loss: 0.3934 - val_accuracy: 0.8525\n"
          ]
        }
      ],
      "source": [
        "###### Hyperparameters\n",
        "STEP_SIZE_TRAIN = train_generator.n//train_generator.batch_size\n",
        "STEP_SIZE_VALID = valid_generator.n//valid_generator.batch_size\n",
        "# Stop the training when there is no improvement after 3 epochs trainings.\n",
        "early_stop = EarlyStopping(monitor='val_loss', patience=20, restore_best_weights=True)\n",
        "\n",
        "# Train the model\n",
        "history = model.fit(train_generator,steps_per_epoch=STEP_SIZE_TRAIN,\n",
        "          validation_data=valid_generator,verbose= 1,\n",
        "          validation_steps=STEP_SIZE_VALID,\n",
        "          epochs=100, callbacks=early_stop)"
      ]
    },
    {
      "cell_type": "code",
      "execution_count": null,
      "metadata": {
        "id": "L1Q0FirQaO5q"
      },
      "outputs": [],
      "source": [
        "#Save the model to google drice\n",
        "model.save('/content/drive/MyDrive/models/cnn_model82_100 epochs-last.h5')"
      ]
    },
    {
      "cell_type": "code",
      "source": [
        "cnn_model = keras.models.load_model(\"/content/drive/MyDrive/models/cnn_model82_100 epochs-last.h5\")"
      ],
      "metadata": {
        "id": "AWbI2Gl_zoFu"
      },
      "execution_count": null,
      "outputs": []
    },
    {
      "cell_type": "code",
      "execution_count": null,
      "metadata": {
        "id": "nnnlhvJQmF_d"
      },
      "outputs": [],
      "source": [
        "# Function to evaluate the model\n",
        "def eval_model(model, test_generator):\n",
        "    test_steps_per_epoch = numpy.math.ceil(test_generator.samples / test_generator.batch_size)\n",
        "    predictions = model.predict(test_generator, steps=test_steps_per_epoch)\n",
        "    # Get most likely class\n",
        "    predicted_classes = numpy.argmax(predictions, axis=1)\n",
        "    true_classes = test_generator.classes\n",
        "    class_labels = list(test_generator.class_indices.keys()) \n",
        "    report = metrics.classification_report(true_classes, predicted_classes, target_names=class_labels)\n",
        "    print(report) \n",
        "    print(confusion_matrix(true_classes, predicted_classes))"
      ]
    },
    {
      "cell_type": "code",
      "execution_count": null,
      "metadata": {
        "colab": {
          "base_uri": "https://localhost:8080/"
        },
        "id": "HwAhiHcPmHfh",
        "outputId": "dbd448ce-d718-44b4-d80e-e6bdae9c2692"
      },
      "outputs": [
        {
          "output_type": "stream",
          "name": "stdout",
          "text": [
            "              precision    recall  f1-score   support\n",
            "\n",
            "       covid       0.84      0.93      0.88       102\n",
            "      normal       0.88      0.83      0.85       102\n",
            "   pneumonia       0.95      0.94      0.95       102\n",
            "tuberculosis       0.99      0.94      0.96       102\n",
            "\n",
            "    accuracy                           0.91       408\n",
            "   macro avg       0.91      0.91      0.91       408\n",
            "weighted avg       0.91      0.91      0.91       408\n",
            "\n",
            "[[95  5  1  1]\n",
            " [15 85  2  0]\n",
            " [ 0  6 96  0]\n",
            " [ 3  1  2 96]]\n"
          ]
        }
      ],
      "source": [
        "eval_model(cnn_model, test_generator)"
      ]
    },
    {
      "cell_type": "markdown",
      "metadata": {
        "id": "vMeTq6Zvl_Ln"
      },
      "source": [
        ""
      ]
    }
  ],
  "metadata": {
    "accelerator": "GPU",
    "colab": {
      "machine_shape": "hm",
      "name": "CNN Model EXP.ipynb",
      "provenance": [],
      "collapsed_sections": []
    },
    "gpuClass": "standard",
    "kernelspec": {
      "display_name": "Python 3",
      "name": "python3"
    },
    "language_info": {
      "name": "python"
    }
  },
  "nbformat": 4,
  "nbformat_minor": 0
}